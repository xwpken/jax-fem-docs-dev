{
 "cells": [
  {
   "cell_type": "markdown",
   "id": "15fc63fa",
   "metadata": {},
   "source": [
    "# Plasticity"
   ]
  }
 ],
 "metadata": {
  "language_info": {
   "name": "python"
  }
 },
 "nbformat": 4,
 "nbformat_minor": 5
}
