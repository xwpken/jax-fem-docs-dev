{
 "cells": [
  {
   "cell_type": "markdown",
   "id": "f9c45951",
   "metadata": {},
   "source": [
    "# Hyperelasticity"
   ]
  },
  {
   "cell_type": "code",
   "execution_count": null,
   "id": "2395ceb0",
   "metadata": {
    "vscode": {
     "languageId": "plaintext"
    }
   },
   "outputs": [],
   "source": [
    "print()"
   ]
  }
 ],
 "metadata": {
  "language_info": {
   "name": "python"
  }
 },
 "nbformat": 4,
 "nbformat_minor": 5
}
