{
 "cells": [
  {
   "cell_type": "markdown",
   "id": "c6f8f254-f2f3-4b4e-a101-df8a3d95375b",
   "metadata": {},
   "source": [
    "# Hyperelasticity\n"
   ]
  },
  {
   "cell_type": "code",
   "execution_count": null,
   "id": "0397f6e4",
   "metadata": {},
   "outputs": [],
   "source": [
    "import jax\n",
    "import jax_fem"
   ]
  },
  {
   "cell_type": "markdown",
   "id": "cee360c5",
   "metadata": {},
   "source": [
    "In this example, we will explore"
   ]
  },
  {
   "cell_type": "code",
   "execution_count": null,
   "id": "812d6481",
   "metadata": {},
   "outputs": [],
   "source": [
    "def sum(x, y):\n",
    "    return x + y"
   ]
  },
  {
   "cell_type": "code",
   "execution_count": null,
   "id": "0707f27c-50d9-4c3d-9474-302bee4b55e1",
   "metadata": {},
   "outputs": [],
   "source": [
    "problem = Poisson(mesh=mesh, \n",
    "                  vec=1, \n",
    "                  dim=2, \n",
    "                  ele_type=ele_type, \n",
    "                  dirichlet_bc_info=dirichlet_bc_info)"
   ]
  },
  {
   "cell_type": "markdown",
   "id": "03566750",
   "metadata": {},
   "source": [
    "The results can be viewed via ParaView:\n",
    "\n",
    "<div style=\"text-align:center\">\n",
    "    <img src=\"../_static/images/stokes_p.png\" width=\"350\" alt=\"stokes\">\n",
    "</div>"
   ]
  }
 ],
 "metadata": {
  "language_info": {
   "name": "python"
  }
 },
 "nbformat": 4,
 "nbformat_minor": 5
}
