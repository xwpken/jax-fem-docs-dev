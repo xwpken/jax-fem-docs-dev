{
 "cells": [
  {
   "cell_type": "markdown",
   "id": "c6f8f254-f2f3-4b4e-a101-df8a3d95375b",
   "metadata": {},
   "source": [
    "# Plasticity\n"
   ]
  },
  {
   "cell_type": "markdown",
   "id": "cee360c5",
   "metadata": {},
   "source": [
    "In this example, we will explore"
   ]
  },
  {
   "cell_type": "code",
   "execution_count": null,
   "id": "0707f27c-50d9-4c3d-9474-302bee4b55e1",
   "metadata": {},
   "outputs": [],
   "source": [
    "problem = Poisson(mesh=mesh, \n",
    "                  vec=1, \n",
    "                  dim=2, \n",
    "                  ele_type=ele_type, \n",
    "                  dirichlet_bc_info=dirichlet_bc_info)"
   ]
  }
 ],
 "metadata": {
  "language_info": {
   "name": "python"
  }
 },
 "nbformat": 4,
 "nbformat_minor": 5
}
